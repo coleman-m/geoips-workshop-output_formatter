{
 "cells": [
  {
   "cell_type": "code",
   "execution_count": null,
   "id": "9c04c5e2",
   "metadata": {},
   "outputs": [],
   "source": [
    "from glob import glob\n",
    "import xarray as xr\n",
    "import logging\n",
    "import os\n",
    "from datetime import datetime, timezone\n",
    "# We need to import every plugin type that we are going to use\n",
    "from geoips.interfaces import readers, algorithms, interpolators, sectors, colormappers, output_formatters, gridline_annotators, feature_annotators\n",
    "\n",
    "LOG = logging.getLogger(__name__)\n",
    "\n",
    "# We use the convention: {plugin_type}.get_plugin({plugin_name}) to load the plugins at runtime\n",
    "\n",
    "# Since we are reading abi data in a netCDF format, we will use this reader\n",
    "abi_reader = readers.get_plugin(\"abi_netcdf\")\n",
    "# Since we will be reading a single channel, we want to use the single_channel algorithm\n",
    "single_channel_algorithm = algorithms.get_plugin(\"single_channel\")\n",
    "# We want to use Nearest Neighbor resampling for this dataset, so we will use the interp_nearest interpolator plugin\n",
    "interp_nearest = interpolators.get_plugin(\"interp_nearest\")\n",
    "# We want to restrict our output to just the CONUS sector\n",
    "conus_sector_plugin = sectors.get_plugin(\"conus\")\n",
    "\n",
    "# We read the environment variable calling os.environ['GEOIPS_TESTDATA_DIR']\n",
    "in_fpath = f\"{os.environ['GEOIPS_TESTDATA_DIR']}/test_data_noaa_aws/data/goes16/20210929/0000/*.nc\"\n",
    "in_fpaths = glob(in_fpath)"
   ]
  },
  {
   "cell_type": "code",
   "execution_count": null,
   "id": "e38dfbe4",
   "metadata": {},
   "outputs": [],
   "source": [
    "# The conus_sector_plugin contains an area_definition.\n",
    "# We want to use that area_definition when calling our reader.\n",
    "conus_sector_area = conus_sector_plugin.area_definition\n",
    "\n",
    "# First we need to read the abi data for channel 14 Brightness Temperature\n",
    "xdict = abi_reader(fnames=in_fpaths, area_def=conus_sector_area, chans=[\"B14BT\"])\n",
    "\n",
    "# Since we passed an area_def for \"conus\", that is the name of the Xarray Object we want to call.\n",
    "conus_xobj = xdict[\"conus\"]\n",
    "\n",
    "# Let's look at what conus_xobj contains within it:\n",
    "conus_xobj"
   ]
  },
  {
   "cell_type": "code",
   "execution_count": null,
   "id": "02507f1a",
   "metadata": {},
   "outputs": [],
   "source": [
    "# Now let us apply the Nearest Neighbor interpolation to our data\n",
    "output_dataset = interp_nearest(conus_sector_area, conus_xobj, None, [\"B14BT\", \"longitude\", \"latitude\"])\n",
    "\n",
    "# Let's look at our output_dataset\n",
    "output_dataset"
   ]
  },
  {
   "cell_type": "code",
   "execution_count": null,
   "id": "f434f1bc",
   "metadata": {},
   "outputs": [],
   "source": [
    "channel_14_bt = output_dataset[\"B14BT\"].data\n",
    "\n",
    "# Now let us apply the single channel algorithm to our channel 14 Brightness Temperature data\n",
    "algorithm_output = single_channel_algorithm([channel_14_bt], output_data_range=[-90.0, 30.0], input_units=\"Kelvin\", output_units=\"celsius\")\n",
    "\n",
    "output_dataset[\"Infrared\"] = xr.DataArray(algorithm_output)\n",
    "\n",
    "# Let's look at this dataset now that we have created it\n",
    "output_dataset"
   ]
  },
  {
   "cell_type": "code",
   "execution_count": null,
   "id": "4fb996c8",
   "metadata": {},
   "outputs": [],
   "source": [
    "# We need a colormapper to tell matplotlib what colors we want to use\n",
    "ir_colormapper = colormappers.get_plugin(\"Infrared\")\n",
    "\n",
    "ir_color_dict = ir_colormapper()"
   ]
  },
  {
   "cell_type": "code",
   "execution_count": null,
   "id": "22502aa9",
   "metadata": {},
   "outputs": [],
   "source": [
    "# We need to tell matplotlib how we want the resulting plot to appear\n",
    "# using a feature_annotator and a gridline_annotator.\n",
    "# This time we will use the default versions of these plugins.\n",
    "local_feature_annotator = feature_annotators.get_plugin(\"default\")\n",
    "\n",
    "local_gridline_annotator = gridline_annotators.get_plugin(\"default\")"
   ]
  },
  {
   "cell_type": "code",
   "execution_count": null,
   "id": "f634519e",
   "metadata": {},
   "outputs": [],
   "source": [
    "#-------------------#\n",
    "# imagery_annotated #\n",
    "#-------------------#\n",
    "\n",
    "# Now that we have all the setup completed, we can call our output formatter.\n",
    "# Let's start by loading the imagery_annotated plugin\n",
    "img_ann_output_formatter = output_formatters.get_plugin(\"imagery_annotated\")\n",
    "\n",
    "\n",
    "formatter_result_dict = {}\n",
    "timestamp = datetime.strftime(datetime.now(timezone.utc), \"%Y%m%d%H%M%S\")\n",
    "out_fpath = f\"{os.environ['GEOIPS_OUTDIRS']}/abi_infrared_annotated_test_{timestamp}.png\"\n",
    "\n",
    "# And then we call the plugin\n",
    "success_outputs = img_ann_output_formatter(conus_sector_area,\n",
    "                                           output_dataset,\n",
    "                                           \"Infrared\",\n",
    "                                           [out_fpath],\n",
    "                                           mpl_colors_info=ir_color_dict,\n",
    "                                           feature_annotator=local_feature_annotator,\n",
    "                                           gridline_annotator=local_gridline_annotator,\n",
    "                                           output_dict=formatter_result_dict)\n",
    "\n",
    "# Let's print the path to the image on your disk\n",
    "success_outputs"
   ]
  },
  {
   "cell_type": "code",
   "execution_count": null,
   "id": "adee2d4c",
   "metadata": {},
   "outputs": [],
   "source": [
    "#---------------#\n",
    "# imagery_clean #\n",
    "#---------------#\n",
    "\n",
    "# We can also create clean imagery\n",
    "img_clean_output_formatter = output_formatters.get_plugin(\"imagery_clean\")\n",
    "\n",
    "out_fpath = f\"{os.environ['GEOIPS_OUTDIRS']}/abi_infrared_clean_test_{timestamp}.png\"\n",
    "\n",
    "success_outputs = img_clean_output_formatter(conus_sector_area,\n",
    "                                             output_dataset,\n",
    "                                             \"Infrared\",\n",
    "                                             [out_fpath],\n",
    "                                             mpl_colors_info=ir_color_dict)\n",
    "\n",
    "success_outputs"
   ]
  },
  {
   "cell_type": "code",
   "execution_count": null,
   "id": "c88051cd",
   "metadata": {},
   "outputs": [],
   "source": [
    "#--------#\n",
    "# NetCDF #\n",
    "#--------#\n",
    "\n",
    "# We can also put our final data into a NetCDF file\n",
    "ncdf_output_formatter = output_formatters.get_plugin(\"netcdf_geoips\")\n",
    "\n",
    "out_fpath = f\"{os.environ['GEOIPS_OUTDIRS']}/abi_infrared_xarray_test_{timestamp}.nc\"\n",
    "\n",
    "success_outputs = ncdf_output_formatter(output_dataset, [\"Infrared\"], [out_fpath])\n",
    "success_outputs"
   ]
  }
 ],
 "metadata": {
  "kernelspec": {
   "display_name": "geoips",
   "language": "python",
   "name": "python3"
  },
  "language_info": {
   "codemirror_mode": {
    "name": "ipython",
    "version": 3
   },
   "file_extension": ".py",
   "mimetype": "text/x-python",
   "name": "python",
   "nbconvert_exporter": "python",
   "pygments_lexer": "ipython3",
   "version": "3.11.13"
  }
 },
 "nbformat": 4,
 "nbformat_minor": 5
}
